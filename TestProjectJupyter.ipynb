{
 "cells": [
  {
   "cell_type": "markdown",
   "id": "0cc61b9d",
   "metadata": {
    "slideshow": {
     "slide_type": "-"
    }
   },
   "source": [
    "# #UCDPA Gavin Horan\n",
    "#This is a Jupyter notebook where I may access the basics of my project from now on. I will at least check, it may be useful. \n"
   ]
  },
  {
   "cell_type": "code",
   "execution_count": 4,
   "id": "9bdf2756",
   "metadata": {},
   "outputs": [],
   "source": [
    "import datetime\n",
    "# import nicedate import nicedate\n",
    "\n",
    "def nicedate(year_week):\n",
    "    return datetime.datetime.strptime('{0}-1'.format(year_week), \"%Y-W%W-%w\")"
   ]
  },
  {
   "cell_type": "code",
   "execution_count": 8,
   "id": "5cb714d2",
   "metadata": {},
   "outputs": [
    {
     "name": "stdout",
     "output_type": "stream",
     "text": [
      "2013-02-04 00:00:00\n"
     ]
    }
   ],
   "source": [
    "import datetime\n",
    "# import nicedate import nicedate\n",
    "\n",
    "def nicedate(year_week):\n",
    "    return datetime.datetime.strptime('{0}-1'.format(year_week), \"%Y-W%W-%w\")\n",
    "\n",
    "d = \"2013-W05\"\n",
    "a = nicedate(d)\n",
    "print(a)\n"
   ]
  },
  {
   "cell_type": "markdown",
   "id": "e3b26648",
   "metadata": {},
   "source": [
    "# "
   ]
  }
 ],
 "metadata": {
  "celltoolbar": "Slideshow",
  "kernelspec": {
   "display_name": "Python 3",
   "language": "python",
   "name": "python3"
  },
  "language_info": {
   "codemirror_mode": {
    "name": "ipython",
    "version": 3
   },
   "file_extension": ".py",
   "mimetype": "text/x-python",
   "name": "python",
   "nbconvert_exporter": "python",
   "pygments_lexer": "ipython3",
   "version": "3.8.8"
  }
 },
 "nbformat": 4,
 "nbformat_minor": 5
}
