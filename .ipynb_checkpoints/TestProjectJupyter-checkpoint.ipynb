{
 "cells": [
  {
   "cell_type": "markdown",
   "id": "bfee97a8",
   "metadata": {},
   "source": [
    "# #UCDPA Gavin Horan\n",
    "#This is a Jupyter notebook where I may access the basics of my project from now on. I will at least check, it may be useful. "
   ]
  },
  {
   "cell_type": "code",
   "execution_count": 2,
   "id": "9bdf2756",
   "metadata": {},
   "outputs": [],
   "source": [
    "import datetime\n",
    "# import nicedate import nicedate\n",
    "\n",
    "def nicedate(year_week):\n",
    "    return datetime.datetime.strptime('{0}-1'.format(year_week), \"%Y-W%W-%w\")"
   ]
  },
  {
   "cell_type": "code",
   "execution_count": 3,
   "id": "5cb714d2",
   "metadata": {},
   "outputs": [
    {
     "ename": "ModuleNotFoundError",
     "evalue": "No module named 'nicedate'",
     "output_type": "error",
     "traceback": [
      "\u001b[1;31m---------------------------------------------------------------------------\u001b[0m",
      "\u001b[1;31mModuleNotFoundError\u001b[0m                       Traceback (most recent call last)",
      "\u001b[1;32m<ipython-input-3-e4ff33f7b4aa>\u001b[0m in \u001b[0;36m<module>\u001b[1;34m\u001b[0m\n\u001b[1;32m----> 1\u001b[1;33m \u001b[1;32mfrom\u001b[0m \u001b[0mnicedate\u001b[0m \u001b[1;32mimport\u001b[0m \u001b[0mnicedate\u001b[0m\u001b[1;33m\u001b[0m\u001b[1;33m\u001b[0m\u001b[0m\n\u001b[0m\u001b[0;32m      2\u001b[0m \u001b[1;32mimport\u001b[0m \u001b[0mmatplotlib\u001b[0m\u001b[1;33m.\u001b[0m\u001b[0mpyplot\u001b[0m \u001b[1;32mas\u001b[0m \u001b[0mplt\u001b[0m\u001b[1;33m\u001b[0m\u001b[1;33m\u001b[0m\u001b[0m\n\u001b[0;32m      3\u001b[0m \u001b[1;31m#import datetime\u001b[0m\u001b[1;33m\u001b[0m\u001b[1;33m\u001b[0m\u001b[1;33m\u001b[0m\u001b[0m\n\u001b[0;32m      4\u001b[0m \u001b[1;32mimport\u001b[0m \u001b[0mseaborn\u001b[0m \u001b[1;32mas\u001b[0m \u001b[0msns\u001b[0m\u001b[1;33m\u001b[0m\u001b[1;33m\u001b[0m\u001b[0m\n\u001b[0;32m      5\u001b[0m \u001b[1;32mimport\u001b[0m \u001b[0mmatplotlib\u001b[0m\u001b[1;33m.\u001b[0m\u001b[0mdates\u001b[0m \u001b[1;32mas\u001b[0m \u001b[0mmdates\u001b[0m\u001b[1;33m\u001b[0m\u001b[1;33m\u001b[0m\u001b[0m\n",
      "\u001b[1;31mModuleNotFoundError\u001b[0m: No module named 'nicedate'"
     ]
    }
   ],
   "source": [
    "from nicedate import nicedate\n",
    "import matplotlib.pyplot as plt\n",
    "#import datetime\n",
    "import seaborn as sns\n",
    "import matplotlib.dates as mdates\n",
    "import pandas as pd\n",
    "import matplotlib.cbook as cbook\n",
    "\n",
    "#\n",
    "# def Nice_Date(df, dateformat):\n",
    "#     for row in df:\n",
    "#       row['year_week_formatted'] = datetime.datetime.strptime(d + '-1', \"%Y-W%W-%w\")\n",
    "#     result = a + b\n",
    "#     return str(result)\n",
    "#\n",
    "# # print(df_country['year_week'].head())\n",
    "# # df_country['Test_Weeks'] = df.apply(lambda x: my_function(x['value_1'], x['value_2']), axis=1)\n",
    "\n",
    "# function to returns date\n",
    "# def niceDate(year_week):\n",
    "# \treturn datetime.datetime.strptime(year_week + '-1', \"%Y-W%W-%w\")\n",
    "\n",
    "d = \"2013-W05\"\n",
    "a = nicedate(d)\n",
    "# r = datetime.datetime.strptime(d + '-1', \"%Y-W%W-%w\")\n",
    "print(a)\n",
    "print(r)\n",
    "#\n",
    "# def format_date(df, dateformat):\n",
    "#     \"\"\"this will format the column containing dates'\"\"\"\n",
    "#     for row in df:\n",
    "#         row['Date'] = datetime.datetime.strptime(row['Date'], '%Y%m%d')\n",
    "#         csv.DictWriter(str(df)+'_converted.csv', data)\n",
    "#         return"
   ]
  },
  {
   "cell_type": "code",
   "execution_count": null,
   "id": "f71d76b5",
   "metadata": {},
   "outputs": [],
   "source": []
  }
 ],
 "metadata": {
  "kernelspec": {
   "display_name": "Python 3",
   "language": "python",
   "name": "python3"
  },
  "language_info": {
   "codemirror_mode": {
    "name": "ipython",
    "version": 3
   },
   "file_extension": ".py",
   "mimetype": "text/x-python",
   "name": "python",
   "nbconvert_exporter": "python",
   "pygments_lexer": "ipython3",
   "version": "3.8.8"
  }
 },
 "nbformat": 4,
 "nbformat_minor": 5
}
